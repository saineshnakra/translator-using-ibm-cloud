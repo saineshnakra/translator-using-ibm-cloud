{
  "cells": [
    {
      "cell_type": "markdown",
      "metadata": {
        "id": "view-in-github",
        "colab_type": "text"
      },
      "source": [
        "<a href=\"https://colab.research.google.com/github/saineshnakra/translator-using-ibm-cloud/blob/main/IBM_watson_language_Translate.ipynb\" target=\"_parent\"><img src=\"https://colab.research.google.com/assets/colab-badge.svg\" alt=\"Open In Colab\"/></a>"
      ]
    },
    {
      "cell_type": "code",
      "execution_count": 1,
      "metadata": {
        "collapsed": true,
        "colab": {
          "base_uri": "https://localhost:8080/"
        },
        "id": "YRREBIs5jnug",
        "outputId": "f3d17fc2-afd4-4b37-da2f-62deeaad8219"
      },
      "outputs": [
        {
          "output_type": "stream",
          "name": "stdout",
          "text": [
            "Collecting ibm_watson\n",
            "  Downloading ibm-watson-8.0.0.tar.gz (398 kB)\n",
            "\u001b[2K     \u001b[90m━━━━━━━━━━━━━━━━━━━━━━━━━━━━━━━━━━━━━━━━\u001b[0m \u001b[32m398.3/398.3 kB\u001b[0m \u001b[31m5.3 MB/s\u001b[0m eta \u001b[36m0:00:00\u001b[0m\n",
            "\u001b[?25h  Installing build dependencies ... \u001b[?25l\u001b[?25hdone\n",
            "  Getting requirements to build wheel ... \u001b[?25l\u001b[?25hdone\n",
            "  Preparing metadata (pyproject.toml) ... \u001b[?25l\u001b[?25hdone\n",
            "Requirement already satisfied: requests<3.0,>=2.0 in /usr/local/lib/python3.10/dist-packages (from ibm_watson) (2.31.0)\n",
            "Requirement already satisfied: python-dateutil>=2.5.3 in /usr/local/lib/python3.10/dist-packages (from ibm_watson) (2.8.2)\n",
            "Requirement already satisfied: websocket-client>=1.1.0 in /usr/local/lib/python3.10/dist-packages (from ibm_watson) (1.8.0)\n",
            "Collecting ibm-cloud-sdk-core==3.*,>=3.3.6 (from ibm_watson)\n",
            "  Downloading ibm-cloud-sdk-core-3.20.0.tar.gz (62 kB)\n",
            "\u001b[2K     \u001b[90m━━━━━━━━━━━━━━━━━━━━━━━━━━━━━━━━━━━━━━━━\u001b[0m \u001b[32m62.1/62.1 kB\u001b[0m \u001b[31m6.7 MB/s\u001b[0m eta \u001b[36m0:00:00\u001b[0m\n",
            "\u001b[?25h  Installing build dependencies ... \u001b[?25l\u001b[?25hdone\n",
            "  Getting requirements to build wheel ... \u001b[?25l\u001b[?25hdone\n",
            "  Preparing metadata (pyproject.toml) ... \u001b[?25l\u001b[?25hdone\n",
            "Collecting urllib3<3.0.0,>=2.1.0 (from ibm-cloud-sdk-core==3.*,>=3.3.6->ibm_watson)\n",
            "  Downloading urllib3-2.2.1-py3-none-any.whl (121 kB)\n",
            "\u001b[2K     \u001b[90m━━━━━━━━━━━━━━━━━━━━━━━━━━━━━━━━━━━━━━━━\u001b[0m \u001b[32m121.1/121.1 kB\u001b[0m \u001b[31m11.2 MB/s\u001b[0m eta \u001b[36m0:00:00\u001b[0m\n",
            "\u001b[?25hCollecting PyJWT<3.0.0,>=2.8.0 (from ibm-cloud-sdk-core==3.*,>=3.3.6->ibm_watson)\n",
            "  Downloading PyJWT-2.8.0-py3-none-any.whl (22 kB)\n",
            "Requirement already satisfied: six>=1.5 in /usr/local/lib/python3.10/dist-packages (from python-dateutil>=2.5.3->ibm_watson) (1.16.0)\n",
            "Requirement already satisfied: charset-normalizer<4,>=2 in /usr/local/lib/python3.10/dist-packages (from requests<3.0,>=2.0->ibm_watson) (3.3.2)\n",
            "Requirement already satisfied: idna<4,>=2.5 in /usr/local/lib/python3.10/dist-packages (from requests<3.0,>=2.0->ibm_watson) (3.7)\n",
            "Requirement already satisfied: certifi>=2017.4.17 in /usr/local/lib/python3.10/dist-packages (from requests<3.0,>=2.0->ibm_watson) (2024.2.2)\n",
            "Building wheels for collected packages: ibm_watson, ibm-cloud-sdk-core\n",
            "  Building wheel for ibm_watson (pyproject.toml) ... \u001b[?25l\u001b[?25hdone\n",
            "  Created wheel for ibm_watson: filename=ibm_watson-8.0.0-py3-none-any.whl size=401037 sha256=f41601ad6ca53fcbadea46a5549bfc22a3b4b6373b97c24c81609901a8ac612b\n",
            "  Stored in directory: /root/.cache/pip/wheels/3b/7f/40/3601b4f434eb462a9f46e24b9dd8c96881e6e913a18cc904f9\n",
            "  Building wheel for ibm-cloud-sdk-core (pyproject.toml) ... \u001b[?25l\u001b[?25hdone\n",
            "  Created wheel for ibm-cloud-sdk-core: filename=ibm_cloud_sdk_core-3.20.0-py3-none-any.whl size=101424 sha256=e52e397558f922e66e1cb30ea55327f79c5c02858c8cfc92b7eae19e11a2dc51\n",
            "  Stored in directory: /root/.cache/pip/wheels/d0/1c/35/8ae2b2b46ca9f86d9edcc026eb0f1a5e8237b712ea3e1ba6c4\n",
            "Successfully built ibm_watson ibm-cloud-sdk-core\n",
            "Installing collected packages: urllib3, PyJWT, ibm-cloud-sdk-core, ibm_watson\n",
            "  Attempting uninstall: urllib3\n",
            "    Found existing installation: urllib3 2.0.7\n",
            "    Uninstalling urllib3-2.0.7:\n",
            "      Successfully uninstalled urllib3-2.0.7\n",
            "  Attempting uninstall: PyJWT\n",
            "    Found existing installation: PyJWT 2.3.0\n",
            "    Uninstalling PyJWT-2.3.0:\n",
            "      Successfully uninstalled PyJWT-2.3.0\n",
            "Successfully installed PyJWT-2.8.0 ibm-cloud-sdk-core-3.20.0 ibm_watson-8.0.0 urllib3-2.2.1\n"
          ]
        }
      ],
      "source": [
        "!pip install ibm_watson"
      ]
    },
    {
      "cell_type": "code",
      "execution_count": 3,
      "metadata": {
        "id": "ZA_E43w_jnuj"
      },
      "outputs": [],
      "source": [
        "API_key = 'insert your api key'\n",
        "url = 'insert your pvt url'\n"
      ]
    },
    {
      "cell_type": "code",
      "execution_count": 5,
      "metadata": {
        "id": "jD-GOw84jnuj"
      },
      "outputs": [],
      "source": [
        "#inmport authenticator and translator\n",
        "from ibm_watson import LanguageTranslatorV3\n",
        "from ibm_cloud_sdk_core.authenticators import IAMAuthenticator"
      ]
    },
    {
      "cell_type": "code",
      "execution_count": 7,
      "metadata": {
        "colab": {
          "base_uri": "https://localhost:8080/"
        },
        "id": "HcdDUS6ujnuj",
        "outputId": "76f0eddf-15aa-4d6e-9159-2059a6532edf"
      },
      "outputs": [
        {
          "output_type": "stream",
          "name": "stdout",
          "text": [
            "\n",
            "            On 10 June 2023, IBM announced the deprecation of the Natural Language Translator service.\n",
            "            The service will no longer be available from 8 August 2022. As of 10 June 2024, the service will reach its End of Support\n",
            "            date. As of 10 December 2024, the service will be withdrawn entirely and will no longer be\n",
            "            available to any customers.\n",
            "            \n"
          ]
        }
      ],
      "source": [
        "\n",
        "authenticator = IAMAuthenticator(apikey=API_key)\n",
        "\n",
        "# our translator object and then forming connection with our service\n",
        "\n",
        "langtranslator = LanguageTranslatorV3(version='2018-05-01',\n",
        "                                     authenticator=authenticator)\n",
        "\n",
        "\n",
        "langtranslator.set_service_url(url)"
      ]
    },
    {
      "cell_type": "markdown",
      "metadata": {
        "id": "z1v2FXFajnuj"
      },
      "source": [
        "## 2.Translate"
      ]
    },
    {
      "cell_type": "markdown",
      "metadata": {
        "id": "uU3GKe5yjnuk"
      },
      "source": [
        "<table>\n",
        "            <caption>Table 1. Translatable languages</caption>\n",
        "            <thead>\n",
        "              <tr class=\"doc-tr-even\">\n",
        "                <th>Language</th>\n",
        "                <th style=\"text-align:center\">Language code</th>\n",
        "                <th>Language</th>\n",
        "                <th style=\"text-align:center\">Language code</th>\n",
        "              </tr>\n",
        "            </thead>\n",
        "            <tbody>\n",
        "              <tr class=\"doc-tr-odd\">\n",
        "                <td><a href=\"#arabic\">Arabic</a></td>\n",
        "                <td style=\"text-align:center\"><code>ar</code></td>\n",
        "                <td><a href=\"#korean\">Korean</a></td>\n",
        "                <td style=\"text-align:center\"><code>ko</code></td>\n",
        "              </tr>\n",
        "              <tr class=\"doc-tr-even\">\n",
        "                <td><a href=\"#basque\">Basque</a> <strong>[1]</strong></td>\n",
        "                <td style=\"text-align:center\"><code>eu</code></td>\n",
        "                <td><a href=\"#latvian\">Latvian</a></td>\n",
        "                <td style=\"text-align:center\"><code>lv</code></td>\n",
        "              </tr>\n",
        "              <tr class=\"doc-tr-odd\">\n",
        "                <td><a href=\"#bengali\">Bengali</a></td>\n",
        "                <td style=\"text-align:center\"><code>bn</code></td>\n",
        "                <td><a href=\"#lithuanian\">Lithuanian</a></td>\n",
        "                <td style=\"text-align:center\"><code>lt</code></td>\n",
        "              </tr>\n",
        "              <tr class=\"doc-tr-even\">\n",
        "                <td><a href=\"#bosnian\">Bosnian</a></td>\n",
        "                <td style=\"text-align:center\"><code>bs</code></td>\n",
        "                <td><a href=\"#malay\">Malay</a></td>\n",
        "                <td style=\"text-align:center\"><code>ms</code></td>\n",
        "              </tr>\n",
        "              <tr class=\"doc-tr-odd\">\n",
        "                <td><a href=\"#bulgarian\">Bulgarian</a></td>\n",
        "                <td style=\"text-align:center\"><code>bg</code></td>\n",
        "                <td><a href=\"#malayalam\">Malayalam</a></td>\n",
        "                <td style=\"text-align:center\"><code>ml</code></td>\n",
        "              </tr>\n",
        "              <tr class=\"doc-tr-even\">\n",
        "                <td><a href=\"#catalan\">Catalan</a> <strong>[1]</strong></td>\n",
        "                <td style=\"text-align:center\"><code>ca</code></td>\n",
        "                <td><a href=\"#maltese\">Maltese</a></td>\n",
        "                <td style=\"text-align:center\"><code>mt</code></td>\n",
        "              </tr>\n",
        "              <tr class=\"doc-tr-odd\">\n",
        "                <td><a href=\"#chinese-simplified\">Chinese (Simplified)</a></td>\n",
        "                <td style=\"text-align:center\"><code>zh</code></td>\n",
        "                <td><a href=\"#montenegrin\">Montenegrin</a> <strong>[2]</strong></td>\n",
        "                <td style=\"text-align:center\"><code>cnr</code></td>\n",
        "              </tr>\n",
        "              <tr class=\"doc-tr-even\">\n",
        "                <td><a href=\"#chinese-traditional\">Chinese (Traditional)</a></td>\n",
        "                <td style=\"text-align:center\"><code>zh-TW</code></td>\n",
        "                <td><a href=\"#nepali\">Nepali</a></td>\n",
        "                <td style=\"text-align:center\"><code>ne</code></td>\n",
        "              </tr>\n",
        "              <tr class=\"doc-tr-odd\">\n",
        "                <td><a href=\"#croatian\">Croatian</a></td>\n",
        "                <td style=\"text-align:center\"><code>hr</code></td>\n",
        "                <td><a href=\"#norwegian-bokmal\">Norwegian Bokmål</a></td>\n",
        "                <td style=\"text-align:center\"><code>nb</code></td>\n",
        "              </tr>\n",
        "              <tr class=\"doc-tr-even\">\n",
        "                <td><a href=\"#czech\">Czech</a></td>\n",
        "                <td style=\"text-align:center\"><code>cs</code></td>\n",
        "                <td><a href=\"#polish\">Polish</a></td>\n",
        "                <td style=\"text-align:center\"><code>pl</code></td>\n",
        "              </tr>\n",
        "              <tr class=\"doc-tr-odd\">\n",
        "                <td><a href=\"#danish\">Danish</a></td>\n",
        "                <td style=\"text-align:center\"><code>da</code></td>\n",
        "                <td><a href=\"#portuguese\">Portuguese</a></td>\n",
        "                <td style=\"text-align:center\"><code>pt</code></td>\n",
        "              </tr>\n",
        "              <tr class=\"doc-tr-even\">\n",
        "                <td><a href=\"#dutch\">Dutch</a></td>\n",
        "                <td style=\"text-align:center\"><code>nl</code></td>\n",
        "                <td><a href=\"#romanian\">Romanian</a></td>\n",
        "                <td style=\"text-align:center\"><code>ro</code></td>\n",
        "              </tr>\n",
        "              <tr class=\"doc-tr-odd\">\n",
        "                <td><a href=\"#english\">English</a></td>\n",
        "                <td style=\"text-align:center\"><code>en</code></td>\n",
        "                <td><a href=\"#russian\">Russian</a></td>\n",
        "                <td style=\"text-align:center\"><code>ru</code></td>\n",
        "              </tr>\n",
        "              <tr class=\"doc-tr-even\">\n",
        "                <td><a href=\"#estonian\">Estonian</a></td>\n",
        "                <td style=\"text-align:center\"><code>et</code></td>\n",
        "                <td><a href=\"#serbian\">Serbian</a> <strong>[3]</strong></td>\n",
        "                <td style=\"text-align:center\"><code>sr</code></td>\n",
        "              </tr>\n",
        "              <tr class=\"doc-tr-odd\">\n",
        "                <td><a href=\"#finnish\">Finnish</a></td>\n",
        "                <td style=\"text-align:center\"><code>fi</code></td>\n",
        "                <td><a href=\"#sinhala\">Sinhala</a></td>\n",
        "                <td style=\"text-align:center\"><code>si</code></td>\n",
        "              </tr>\n",
        "              <tr class=\"doc-tr-even\">\n",
        "                <td><a href=\"#french\">French</a></td>\n",
        "                <td style=\"text-align:center\"><code>fr</code></td>\n",
        "                <td><a href=\"#slovak\">Slovak</a></td>\n",
        "                <td style=\"text-align:center\"><code>sk</code></td>\n",
        "              </tr>\n",
        "              <tr class=\"doc-tr-odd\">\n",
        "                <td><a href=\"#french-canadian\">French (Canadian)</a></td>\n",
        "                <td style=\"text-align:center\"><code>fr</code></td>\n",
        "                <td><a href=\"#slovenian\">Slovenian</a></td>\n",
        "                <td style=\"text-align:center\"><code>sl</code></td>\n",
        "              </tr>\n",
        "              <tr class=\"doc-tr-even\">\n",
        "                <td><a href=\"#german\">German</a></td>\n",
        "                <td style=\"text-align:center\"><code>de</code></td>\n",
        "                <td><a href=\"#spanish\">Spanish</a></td>\n",
        "                <td style=\"text-align:center\"><code>es</code></td>\n",
        "              </tr>\n",
        "              <tr class=\"doc-tr-odd\">\n",
        "                <td><a href=\"#greek\">Greek</a></td>\n",
        "                <td style=\"text-align:center\"><code>el</code></td>\n",
        "                <td><a href=\"#swedish\">Swedish</a></td>\n",
        "                <td style=\"text-align:center\"><code>sv</code></td>\n",
        "              </tr>\n",
        "              <tr class=\"doc-tr-even\">\n",
        "                <td><a href=\"#gujarati\">Gujarati</a></td>\n",
        "                <td style=\"text-align:center\"><code>gu</code></td>\n",
        "                <td><a href=\"#tamil\">Tamil</a></td>\n",
        "                <td style=\"text-align:center\"><code>ta</code></td>\n",
        "              </tr>\n",
        "              <tr class=\"doc-tr-odd\">\n",
        "                <td><a href=\"#hebrew\">Hebrew</a></td>\n",
        "                <td style=\"text-align:center\"><code>he</code></td>\n",
        "                <td><a href=\"#telugu\">Telugu</a></td>\n",
        "                <td style=\"text-align:center\"><code>te</code></td>\n",
        "              </tr>\n",
        "              <tr class=\"doc-tr-even\">\n",
        "                <td><a href=\"#hindi\">Hindi</a></td>\n",
        "                <td style=\"text-align:center\"><code>hi</code></td>\n",
        "                <td><a href=\"#thai\">Thai</a></td>\n",
        "                <td style=\"text-align:center\"><code>th</code></td>\n",
        "              </tr>\n",
        "              <tr class=\"doc-tr-odd\">\n",
        "                <td><a href=\"#hungarian\">Hungarian</a></td>\n",
        "                <td style=\"text-align:center\"><code>hu</code></td>\n",
        "                <td><a href=\"#turkish\">Turkish</a></td>\n",
        "                <td style=\"text-align:center\"><code>tr</code></td>\n",
        "              </tr>\n",
        "              <tr class=\"doc-tr-even\">\n",
        "                <td><a href=\"#irish\">Irish</a></td>\n",
        "                <td style=\"text-align:center\"><code>ga</code></td>\n",
        "                <td><a href=\"#ukrainian\">Ukrainian</a></td>\n",
        "                <td style=\"text-align:center\"><code>uk</code></td>\n",
        "              </tr>\n",
        "              <tr class=\"doc-tr-odd\">\n",
        "                <td><a href=\"#indonesian\">Indonesian</a></td>\n",
        "                <td style=\"text-align:center\"><code>id</code></td>\n",
        "                <td><a href=\"#urdu\">Urdu</a></td>\n",
        "                <td style=\"text-align:center\"><code>ur</code></td>\n",
        "              </tr>\n",
        "              <tr class=\"doc-tr-even\">\n",
        "                <td><a href=\"#italian\">Italian</a></td>\n",
        "                <td style=\"text-align:center\"><code>it</code></td>\n",
        "                <td><a href=\"#vietnamese\">Vietnamese</a></td>\n",
        "                <td style=\"text-align:center\"><code>vi</code></td>\n",
        "              </tr>\n",
        "              <tr class=\"doc-tr-odd\">\n",
        "                <td><a href=\"#japanese\">Japanese</a></td>\n",
        "                <td style=\"text-align:center\"><code>ja</code></td>\n",
        "                <td><a href=\"#welsh\">Welsh</a></td>\n",
        "                <td style=\"text-align:center\"><code>cy</code></td>\n",
        "              </tr>\n",
        "            </tbody>\n",
        "          </table>"
      ]
    },
    {
      "cell_type": "code",
      "execution_count": 9,
      "metadata": {
        "id": "7iQFmw9rjnuk"
      },
      "outputs": [],
      "source": [
        "translation = langtranslator.translate(text='Hello World',model_id='en-hi')"
      ]
    },
    {
      "cell_type": "code",
      "execution_count": 10,
      "metadata": {
        "colab": {
          "base_uri": "https://localhost:8080/"
        },
        "id": "6ovBXF6pjnul",
        "outputId": "ffcd0590-a0c1-44af-d865-02e3b1d1499e"
      },
      "outputs": [
        {
          "output_type": "execute_result",
          "data": {
            "text/plain": [
              "{'translations': [{'translation': 'हेलो वर्ल्ड'}],\n",
              " 'word_count': 2,\n",
              " 'character_count': 11}"
            ]
          },
          "metadata": {},
          "execution_count": 10
        }
      ],
      "source": [
        "translation.get_result()"
      ]
    },
    {
      "cell_type": "code",
      "execution_count": 11,
      "metadata": {
        "colab": {
          "base_uri": "https://localhost:8080/"
        },
        "id": "uF9jTZrfjnul",
        "outputId": "970d68da-2af3-4cf7-ce08-55b4cf7c67a6"
      },
      "outputs": [
        {
          "output_type": "execute_result",
          "data": {
            "text/plain": [
              "{'translations': [{'translation': 'आधुनिक आनुवंशिकी में आम सहमति के अनुसार, शरीर रचना की दृष्टि से आधुनिक मानव पहले भारतीय उपमहाद्वीप पर अफ्रीका से 73,000 से 55,000 वर्ष पहले आ गए थे. [1] हालांकि, सबसे पहले ज्ञात मानव दक्षिण एशिया में 30,000 साल पहले की तारीख में ही रहता है. स्थायी जीवन, जिसमें खेती और पशुपालन के लिए संक्रमण से संक्रमण शामिल है, लगभग 7,000 बीसीई के आसपास दक्षिण एशिया में शुरू हुआ. मेहरगढ़ की उपस्थिति के स्थल पर गेहूं और जौ के निष्कासन का विवरण दिया जा सकता है, इसके बाद बकरी, भेड़ और मवेशी का तेजी से पालन किया जा सकता है. [2] 4,500 ई. पू. तक, बसा हुआ जीवन व्यापक रूप से फैल गया, [2] और धीरे-धीरे सिंधु घाटी की सभ्यता, जो प्राचीन मिस्र और मेसोपोटामिया के साथ समकालीन थी, में धीरे धीरे विकसित होना शुरू हुआ. यह सभ्यता 2,500 ईसा पूर्व और 1900 ईसा पूर्व के बीच विकसित हुई, जो आज पाकिस्तान और उत्तर-पश्चिमी भारत है, और इसकी शहरी नियोजन, पकी ईंट के घरों, विस्तृत जल निकासी और पानी की आपूर्ति के लिए जाना जाता था। [3]'}],\n",
              " 'word_count': 179,\n",
              " 'character_count': 949}"
            ]
          },
          "metadata": {},
          "execution_count": 11
        }
      ],
      "source": [
        "## trying for bigger text\n",
        "\n",
        "text = 'According to consensus in modern genetics anatomically modern humans first arrived on the Indian subcontinent from Africa between 73,000 and 55,000 years ago.[1] However, the earliest known human remains in South Asia date to 30,000 years ago. Settled life, which involves the transition from foraging to farming and pastoralism, began in South Asia around 7,000 BCE. At the site of Mehrgarh presence can be documented of the domestication of wheat and barley, rapidly followed by that of goats, sheep, and cattle.[2] By 4,500 BCE, settled life had spread more widely,[2] and began to gradually evolve into the Indus Valley Civilization, an early civilization of the Old world, which was contemporaneous with Ancient Egypt and Mesopotamia. This civilisation flourished between 2,500 BCE and 1900 BCE in what today is Pakistan and north-western India, and was noted for its urban planning, baked brick houses, elaborate drainage, and water supply.[3]'\n",
        "\n",
        "translation = langtranslator.translate(text=text,model_id='en-hi')\n",
        "\n",
        "translation.get_result()"
      ]
    },
    {
      "cell_type": "markdown",
      "metadata": {
        "id": "YWL9tESejnul"
      },
      "source": []
    },
    {
      "cell_type": "code",
      "execution_count": 12,
      "metadata": {
        "colab": {
          "base_uri": "https://localhost:8080/",
          "height": 105
        },
        "id": "VuNs0Oytjnul",
        "outputId": "804f4541-8d32-42b6-e7f3-15ab79869e1f"
      },
      "outputs": [
        {
          "output_type": "execute_result",
          "data": {
            "text/plain": [
              "'आधुनिक आनुवंशिकी में आम सहमति के अनुसार, शरीर रचना की दृष्टि से आधुनिक मानव पहले भारतीय उपमहाद्वीप पर अफ्रीका से 73,000 से 55,000 वर्ष पहले आ गए थे. [1] हालांकि, सबसे पहले ज्ञात मानव दक्षिण एशिया में 30,000 साल पहले की तारीख में ही रहता है. स्थायी जीवन, जिसमें खेती और पशुपालन के लिए संक्रमण से संक्रमण शामिल है, लगभग 7,000 बीसीई के आसपास दक्षिण एशिया में शुरू हुआ. मेहरगढ़ की उपस्थिति के स्थल पर गेहूं और जौ के निष्कासन का विवरण दिया जा सकता है, इसके बाद बकरी, भेड़ और मवेशी का तेजी से पालन किया जा सकता है. [2] 4,500 ई. पू. तक, बसा हुआ जीवन व्यापक रूप से फैल गया, [2] और धीरे-धीरे सिंधु घाटी की सभ्यता, जो प्राचीन मिस्र और मेसोपोटामिया के साथ समकालीन थी, में धीरे धीरे विकसित होना शुरू हुआ. यह सभ्यता 2,500 ईसा पूर्व और 1900 ईसा पूर्व के बीच विकसित हुई, जो आज पाकिस्तान और उत्तर-पश्चिमी भारत है, और इसकी शहरी नियोजन, पकी ईंट के घरों, विस्तृत जल निकासी और पानी की आपूर्ति के लिए जाना जाता था। [3]'"
            ],
            "application/vnd.google.colaboratory.intrinsic+json": {
              "type": "string"
            }
          },
          "metadata": {},
          "execution_count": 12
        }
      ],
      "source": [
        "translation.get_result()['translations'][0]['translation']"
      ]
    },
    {
      "cell_type": "code",
      "execution_count": null,
      "metadata": {
        "id": "nM2PFJ74jnul"
      },
      "outputs": [],
      "source": []
    }
  ],
  "metadata": {
    "kernelspec": {
      "display_name": "Python 3",
      "language": "python",
      "name": "python3"
    },
    "language_info": {
      "codemirror_mode": {
        "name": "ipython",
        "version": 3
      },
      "file_extension": ".py",
      "mimetype": "text/x-python",
      "name": "python",
      "nbconvert_exporter": "python",
      "pygments_lexer": "ipython3",
      "version": "3.9.1"
    },
    "colab": {
      "provenance": [],
      "include_colab_link": true
    }
  },
  "nbformat": 4,
  "nbformat_minor": 0
}